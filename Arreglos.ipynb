{
  "nbformat": 4,
  "nbformat_minor": 0,
  "metadata": {
    "colab": {
      "provenance": [],
      "authorship_tag": "ABX9TyNG86d5yF7HbSOPwaIQfi+J",
      "include_colab_link": true
    },
    "kernelspec": {
      "name": "python3",
      "display_name": "Python 3"
    },
    "language_info": {
      "name": "python"
    }
  },
  "cells": [
    {
      "cell_type": "markdown",
      "metadata": {
        "id": "view-in-github",
        "colab_type": "text"
      },
      "source": [
        "<a href=\"https://colab.research.google.com/github/Motta2008/ARREGLOS_12_08_2025/blob/main/Arreglos.ipynb\" target=\"_parent\"><img src=\"https://colab.research.google.com/assets/colab-badge.svg\" alt=\"Open In Colab\"/></a>"
      ]
    },
    {
      "cell_type": "markdown",
      "source": [
        "los vectores son reserva de memoria para almacenar informacion, solo puede ser de un tuipo, si es numerico , es numerico, si es texto , debe continuar siendo texto , esto aplica para las matrices. Los arreglos son identificadores estatifos, esto significa que es otra forma de definir , variables y constantes.\n"
      ],
      "metadata": {
        "id": "y6TNFcNGjtNL"
      }
    },
    {
      "cell_type": "code",
      "execution_count": 1,
      "metadata": {
        "colab": {
          "base_uri": "https://localhost:8080/"
        },
        "id": "3wiP3_8KeuwI",
        "outputId": "c580fcf5-6f5d-4ad5-f90f-95cfaea2b163"
      },
      "outputs": [
        {
          "output_type": "stream",
          "name": "stdout",
          "text": [
            "[1 2 3 4 5]\n",
            "3\n",
            "[0. 0. 0. 0. 0.]\n",
            "[1. 1. 1. 1. 1.]\n",
            "rango [1 2 3 4 5 6 7 8 9]\n",
            "linspace [ 1.    3.25  5.5   7.75 10.  ]\n",
            "random [0.79023549 0.86576668 0.04218763 0.68142662 0.22361583 0.43533918\n",
            " 0.89986171 0.48996425 0.03310073 0.74978647]\n",
            "randint [9 8 1 3 1 7 1 5 3 7]\n"
          ]
        }
      ],
      "source": [
        "import numpy as np # np es un alias para recortar el nombre de numpy\n",
        "\n",
        "vector = np.array([1, 2, 3, 4, 5]) # Creamos un vector de numpy\n",
        "print(vector) # Imprimimos el vector\n",
        "# quiero imprimir el tercer elemento del vector\n",
        "print(vector[2]) # Imprimimos el tercer elemento del vector (índice 2)\n",
        "\n",
        "\"\"\" los vectores no son como las listas, no tienen un método append() para agregar elementos\n",
        "y no tienen un método pop() para eliminar elementos, pero sí tienen un método reshape() para cambiar su forma , adicionalmente despues de creado no se puede cambiar el tamaño del vector \"\"\"\n",
        "\n",
        "vector1 =np.zeros(5) # Creamos un vector de ceros de tamaño 5\n",
        "print(vector1) # Imprimimos el vector de ceros\n",
        "\n",
        "vector2 = np.ones(5) # Creamos un vector de unos de tamaño 5\n",
        "print(vector2) # Imprimimos el vector de unos\n",
        "\n",
        "vector3 = np.arange(1,10) # Creamos un vector derango de 1 al 10\n",
        "print(\"rango\",vector3) # Imprimimos el vector de números rango\n",
        "\n",
        "vector4 = np.linspace(1, 10, 5) # Creamos un vector de 5 números entre 1 y 10\n",
        "print(\"linspace\",vector4) # Imprimimos el vector de números linspace\n",
        "\n",
        "vector5 = np.random.rand(10) # Creamos un vector de 5 números aleatorios entre 0 y 10\n",
        "print(\"random\",vector5) # Imprimimos el vector de números aleatorios\n",
        "\n",
        "vector6= np.random.randint(1,10,10) # Creamos un vector de 5 números aleatorios entre 0 y 10\n",
        "print(\"randint\",vector6) # Imprimimos el vector de números aleatorios\n",
        "# Creamos un vector de 5 números aleatorios entre 0 y 10"
      ]
    }
  ]
}